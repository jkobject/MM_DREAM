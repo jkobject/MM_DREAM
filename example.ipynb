{
 "cells": [
  {
   "cell_type": "markdown",
   "metadata": {},
   "source": [
    "# showing the pipeline"
   ]
  },
  {
   "cell_type": "code",
   "execution_count": 1,
   "metadata": {
    "ExecuteTime": {
     "end_time": "2022-05-14T21:11:38.460232Z",
     "start_time": "2022-05-14T21:11:37.249675Z"
    }
   },
   "outputs": [],
   "source": [
    "from owkin_mm_dream import load_data, preprocess, make_dataset, show_metrics, main"
   ]
  },
  {
   "cell_type": "code",
   "execution_count": 2,
   "metadata": {
    "ExecuteTime": {
     "end_time": "2022-05-14T21:11:38.506258Z",
     "start_time": "2022-05-14T21:11:38.503022Z"
    }
   },
   "outputs": [],
   "source": [
    "from sklearn import preprocessing\n",
    "from sklearn import svm\n",
    "from sklearn.linear_model import LogisticRegression\n",
    "from sklearn.neighbors import KNeighborsClassifier"
   ]
  },
  {
   "cell_type": "code",
   "execution_count": 3,
   "metadata": {
    "ExecuteTime": {
     "end_time": "2022-05-14T21:11:38.544226Z",
     "start_time": "2022-05-14T21:11:38.541633Z"
    }
   },
   "outputs": [],
   "source": [
    "import warnings\n",
    "warnings.filterwarnings('ignore')"
   ]
  },
  {
   "cell_type": "code",
   "execution_count": 4,
   "metadata": {
    "ExecuteTime": {
     "end_time": "2022-05-14T21:11:38.578428Z",
     "start_time": "2022-05-14T21:11:38.576178Z"
    }
   },
   "outputs": [],
   "source": [
    "syn_login = \"jkobject\"\n",
    "syn_password = \"QXAxTW2s4AcRjaz\""
   ]
  },
  {
   "cell_type": "code",
   "execution_count": 5,
   "metadata": {
    "ExecuteTime": {
     "end_time": "2022-05-14T21:13:26.516487Z",
     "start_time": "2022-05-14T21:11:38.711189Z"
    }
   },
   "outputs": [
    {
     "name": "stdout",
     "output_type": "stream",
     "text": [
      "Welcome, jkobject!\n",
      "\n",
      "\n",
      "here is our clinical data: \n",
      "               category     type controlled_values  \\\n",
      "names                                                \n",
      "D_OS_FLAG      response  Numeric   0=\"No\"; 1=\"Yes\"   \n",
      "D_ISS          response   Factor           1; 2; 3   \n",
      "D_Gender    demographic   Factor      Male; Female   \n",
      "D_OS           response  Numeric               NaN   \n",
      "D_PFS          response  Numeric               NaN   \n",
      "D_Age       demographic  Numeric               NaN   \n",
      "Study                id   Factor               NaN   \n",
      "D_PFS_FLAG     response  Numeric   0=\"No\"; 1=\"Yes\"   \n",
      "\n",
      "                                                  description  \\\n",
      "names                                                           \n",
      "D_OS_FLAG                            Is the patient deceased?   \n",
      "D_ISS                                       ISS Disease Stage   \n",
      "D_Gender                                        Gender string   \n",
      "D_OS        Overall Survival time: number of days from (tr...   \n",
      "D_PFS       Progression-free survival: number of days from...   \n",
      "D_Age                                Age at diagnosis (years)   \n",
      "Study                    Study cohort this patient belongs to   \n",
      "D_PFS_FLAG  Has the patient developed progressive disease ...   \n",
      "\n",
      "                                MMRF_IA8                        GSE15695_UAMS  \\\n",
      "names                                                                           \n",
      "D_OS_FLAG    STAND_ALONE_SURVIVAL.censos                                  NaN   \n",
      "D_ISS              PER_PATIENT::D_PT_iss  GSE15695_My9_GEP_clinical_data::iss   \n",
      "D_Gender       PER_PATIENT::DEMOG_GENDER  GSE15695_My9_GEP_clinical_data::sex   \n",
      "D_OS          STAND_ALONE_SURVIVAL.ttcos                                  NaN   \n",
      "D_PFS        STAND_ALONE_SURVIVAL.ttcpfs                                  NaN   \n",
      "D_Age              PER_PATIENT::D_PT_age  GSE15695_My9_GEP_clinical_data::age   \n",
      "Study                               MMRF                             GSE15695   \n",
      "D_PFS_FLAG  STAND_ALONE_SURVIVAL.censpfs                                  NaN   \n",
      "\n",
      "                                                     Hose  \\\n",
      "names                                                       \n",
      "D_OS_FLAG                                       OS_STATUS   \n",
      "D_ISS                                                 ISS   \n",
      "D_Gender    recode(sex, \"male\"=\"Male\", \"female\"=\"Female\")   \n",
      "D_OS                          as.numeric(OS) /12 * 365.25   \n",
      "D_PFS            as.integer(as.numeric(EFS) /12 * 365.25)   \n",
      "D_Age                                                 age   \n",
      "Study                                                Hose   \n",
      "D_PFS_FLAG                                     EFS_STATUS   \n",
      "\n",
      "                                            UAMS.UK.MyelomaXI  \\\n",
      "names                                                           \n",
      "D_OS_FLAG                                           OS_status   \n",
      "D_ISS       ISS column. `Stage I` = 1, `Stage II` = 2, `St...   \n",
      "D_Gender    ifelse(grepl(\"M\",toupper(df$Gender) ), \"Male\",...   \n",
      "D_OS                                      OS_months/12*365.25   \n",
      "D_PFS                                    PFS_months/12*365.25   \n",
      "D_Age                                                     Age   \n",
      "Study                                                  \"UAMS\"   \n",
      "D_PFS_FLAG                                         PFS_status   \n",
      "\n",
      "                                   M2GEN  active  \n",
      "names                                             \n",
      "D_OS_FLAG                            NaN     1.0  \n",
      "D_ISS                                NaN     1.0  \n",
      "D_Gender            Demographics::Gender     1.0  \n",
      "D_OS                                 NaN     1.0  \n",
      "D_PFS                                NaN     1.0  \n",
      "D_Age       Demographics::AgeAtDiagnosis     1.0  \n",
      "Study                                NaN     1.0  \n",
      "D_PFS_FLAG                           NaN     1.0  \n",
      "the rna data has 734 samples\n",
      "downloading gene names from biomart\n"
     ]
    }
   ],
   "source": [
    "rna_data, clinical_data = load_data(syn_login, syn_password)\n",
    "rna_data, unc_clinical_data = preprocess(rna_data, clinical_data)"
   ]
  },
  {
   "cell_type": "code",
   "execution_count": 6,
   "metadata": {
    "ExecuteTime": {
     "end_time": "2022-05-14T21:13:35.545961Z",
     "start_time": "2022-05-14T21:13:27.020902Z"
    },
    "scrolled": true
   },
   "outputs": [
    {
     "name": "stdout",
     "output_type": "stream",
     "text": [
      "\n",
      "We are using these pathways & genesets: \n",
      "['BIOCARTA_DEATH_PATHWAY', 'BIOCARTA_CELLCYCLE_PATHWAY', 'BIOCARTA_ERK_PATHWAY', 'BIOCARTA_NFKB_PATHWAY', 'BIOCARTA_P53_PATHWAY', 'BIOCARTA_RAS_PATHWAY', 'BORTEZOMIB_ABNORMALITY_OF_CHROMOSOME_STABILITY', 'REACTOME_ANTIGEN_PROCESSING_UBIQUITINATION_PROTEASOME_DEGRADATION', 'REACTOME_DNA_REPAIR', 'UAMS17', 'THALIDOMIDE']\n"
     ]
    }
   ],
   "source": [
    "X = make_dataset(rna_data, unc_clinical_data)"
   ]
  },
  {
   "cell_type": "markdown",
   "metadata": {},
   "source": [
    "## generating the output data\n"
   ]
  },
  {
   "cell_type": "code",
   "execution_count": 7,
   "metadata": {
    "ExecuteTime": {
     "end_time": "2022-05-14T21:13:37.759688Z",
     "start_time": "2022-05-14T21:13:37.751987Z"
    }
   },
   "outputs": [],
   "source": [
    "Y = (\n",
    "    unc_clinical_data.replace({\"FALSE\": 0, \"TRUE\": 1})[\"to_pred\"]\n",
    "    .loc[X.index]\n",
    "    .values\n",
    ")"
   ]
  },
  {
   "cell_type": "markdown",
   "metadata": {},
   "source": [
    "## scaling the data"
   ]
  },
  {
   "cell_type": "code",
   "execution_count": 8,
   "metadata": {
    "ExecuteTime": {
     "end_time": "2022-05-14T21:13:39.076792Z",
     "start_time": "2022-05-14T21:13:39.071714Z"
    }
   },
   "outputs": [],
   "source": [
    "predict_on = [\n",
    "    \"age\",\n",
    "    \"stage\",\n",
    "    \"PHF19\",\n",
    "    \"BCL2A1\",\n",
    "    \"BIOCARTA_DEATH_PATHWAY\",\n",
    "    \"BIOCARTA_CELLCYCLE_PATHWAY\",\n",
    "    \"BIOCARTA_ERK_PATHWAY\",\n",
    "    \"BIOCARTA_NFKB_PATHWAY\",\n",
    "    \"BIOCARTA_P53_PATHWAY\",\n",
    "    \"BIOCARTA_RAS_PATHWAY\",\n",
    "    \"BORTEZOMIB_ABNORMALITY_OF_CHROMOSOME_STABILITY\",\n",
    "    \"REACTOME_ANTIGEN_PROCESSING_UBIQUITINATION_PROTEASOME_DEGRADATION\",\n",
    "    \"REACTOME_DNA_REPAIR\",\n",
    "    \"UAMS17\",\n",
    "    \"THALIDOMIDE\",\n",
    "]"
   ]
  },
  {
   "cell_type": "code",
   "execution_count": 9,
   "metadata": {
    "ExecuteTime": {
     "end_time": "2022-05-14T21:13:40.500114Z",
     "start_time": "2022-05-14T21:13:40.431208Z"
    }
   },
   "outputs": [],
   "source": [
    "scaler = preprocessing.StandardScaler().fit(X[predict_on].values)\n",
    "X_scaled = scaler.transform(X[predict_on].values)"
   ]
  },
  {
   "cell_type": "markdown",
   "metadata": {
    "ExecuteTime": {
     "end_time": "2022-05-14T19:38:40.262144Z",
     "start_time": "2022-05-14T19:38:40.258848Z"
    }
   },
   "source": [
    "## finding the best predictors"
   ]
  },
  {
   "cell_type": "code",
   "execution_count": 10,
   "metadata": {
    "ExecuteTime": {
     "end_time": "2022-05-14T21:13:46.661927Z",
     "start_time": "2022-05-14T21:13:46.583045Z"
    }
   },
   "outputs": [
    {
     "name": "stdout",
     "output_type": "stream",
     "text": [
      "\n",
      "The best predictors according to logistic regression are: \n",
      "\n",
      "['age' 'stage' 'PHF19' 'BIOCARTA_P53_PATHWAY' 'BIOCARTA_RAS_PATHWAY'\n",
      " 'REACTOME_ANTIGEN_PROCESSING_UBIQUITINATION_PROTEASOME_DEGRADATION'\n",
      " 'REACTOME_DNA_REPAIR' 'UAMS17']\n"
     ]
    }
   ],
   "source": [
    "clf = LogisticRegression()\n",
    "clf = clf.fit(X_scaled, Y)\n",
    "\n",
    "best_pred = np.array(predict_on)[abs(clf.coef_[0]) > 0.2]\n",
    "print(\"\\nThe best predictors according to logistic regression are: \\n\")\n",
    "print(best_pred)"
   ]
  },
  {
   "cell_type": "markdown",
   "metadata": {},
   "source": [
    "## showing a few models' predictions"
   ]
  },
  {
   "cell_type": "code",
   "execution_count": 11,
   "metadata": {
    "ExecuteTime": {
     "end_time": "2022-05-14T21:13:50.077139Z",
     "start_time": "2022-05-14T21:13:47.975154Z"
    },
    "scrolled": false
   },
   "outputs": [
    {
     "name": "stdout",
     "output_type": "stream",
     "text": [
      "\n",
      "\n",
      "KNeighborsClassifier:\n",
      "\n"
     ]
    },
    {
     "data": {
      "image/png": "[encoded data removed]",
      "text/plain": [
       "<Figure size 640x480 with 1 Axes>"
      ]
     },
     "metadata": {},
     "output_type": "display_data"
    },
    {
     "name": "stdout",
     "output_type": "stream",
     "text": [
      "precision, recall, f1_score:\n",
      "0.7032117093348159 0.7188328912466844 0.6828149370647434\n",
      "k-fold CV score:\n",
      "0.6900000000000002\n",
      "a KNN with 15 neigbhors shows a lower f1 score overall (CV=100) but a really good AUC. However, this is likely due to overfitting.\n",
      "_______________________________________\n",
      "\n",
      "\n",
      "svm:\n",
      "\n"
     ]
    },
    {
     "data": {
      "image/png": "[encoded data removed]",
      "text/plain": [
       "<Figure size 640x480 with 1 Axes>"
      ]
     },
     "metadata": {},
     "output_type": "display_data"
    },
    {
     "name": "stdout",
     "output_type": "stream",
     "text": [
      "precision, recall, f1_score:\n",
      "0.7820701695983681 0.7718832891246684 0.7426611753544143\n",
      "k-fold CV score:\n",
      "0.7058333333333335\n",
      "\n",
      "SVM is able to get a very good precision and in medical applications, this is often what we are looking for: FPs need to be as low as possible. However, the kaplan-meyer curve is worrying. But it might be due to it being based on survival data whereas we are looking at risk / fast progression?\n",
      "_______________________________________\n",
      "\n",
      "\n",
      "LogisticRegression:\n",
      "\n"
     ]
    },
    {
     "data": {
      "image/png": "[encoded data removed]",
      "text/plain": [
       "<Figure size 640x480 with 1 Axes>"
      ]
     },
     "metadata": {},
     "output_type": "display_data"
    },
    {
     "name": "stdout",
     "output_type": "stream",
     "text": [
      "precision, recall, f1_score:\n",
      "0.7011262919188603 0.7161803713527851 0.6752817462861146\n",
      "k-fold CV score:\n",
      "0.7041666666666668\n",
      "\n",
      "logistic regression with elasticnet and a high l1_ratio shows a good f1 score. Lower precision, But by far the best K-M curve of all.\n"
     ]
    }
   ],
   "source": [
    "print(\"\\n\\nKNeighborsClassifier:\\n\")\n",
    "clf = KNeighborsClassifier(n_neighbors=15)\n",
    "clf = clf.fit(X_scaled, Y)\n",
    "show_metrics(clf, X_scaled, Y)\n",
    "print(\n",
    "    \"a KNN with 15 neigbhors shows a lower f1 score overall (CV=100) but a really good AUC. However, this is likely due to overfitting.\"\n",
    ")\n",
    "\n",
    "print(\"_______________________________________\\n\\n\")\n",
    "print(\"svm:\\n\")\n",
    "clf = svm.SVC(C=0.9)\n",
    "clf = clf.fit(X_scaled, Y)\n",
    "show_metrics(clf, X_scaled, Y)\n",
    "print(\n",
    "    \"\\nSVM is able to get a very good precision and in medical applications, this is often what we are looking for: FPs need to be as low as possible. However, the kaplan-meyer curve is worrying. But it might be due to it being based on survival data whereas we are looking at risk / fast progression?\"\n",
    ")\n",
    "\n",
    "print(\"_______________________________________\\n\\n\")\n",
    "print(\"LogisticRegression:\\n\")\n",
    "clf = LogisticRegression(\n",
    "    penalty=\"elasticnet\", solver=\"saga\", l1_ratio=1, max_iter=800, C=0.2\n",
    ")\n",
    "clf = clf.fit(X_scaled, Y)\n",
    "show_metrics(clf, X_scaled, Y)\n",
    "print(\n",
    "    \"\\nlogistic regression with elasticnet and a high l1_ratio shows a good f1 score. Lower precision, But by far the best K-M curve of all.\"\n",
    ")"
   ]
  },
  {
   "cell_type": "markdown",
   "metadata": {
    "ExecuteTime": {
     "end_time": "2022-05-14T20:51:07.138946Z",
     "start_time": "2022-05-14T20:51:07.136066Z"
    }
   },
   "source": [
    "# Using the pipeline"
   ]
  },
  {
   "cell_type": "code",
   "execution_count": 12,
   "metadata": {
    "ExecuteTime": {
     "end_time": "2022-05-14T21:15:25.362582Z",
     "start_time": "2022-05-14T21:13:57.078352Z"
    },
    "scrolled": false
   },
   "outputs": [
    {
     "name": "stdout",
     "output_type": "stream",
     "text": [
      "Welcome, jkobject!\n",
      "\n",
      "\n",
      "here is our clinical data: \n",
      "               category     type controlled_values  \\\n",
      "names                                                \n",
      "D_OS_FLAG      response  Numeric   0=\"No\"; 1=\"Yes\"   \n",
      "D_ISS          response   Factor           1; 2; 3   \n",
      "D_Gender    demographic   Factor      Male; Female   \n",
      "D_OS           response  Numeric               NaN   \n",
      "D_PFS          response  Numeric               NaN   \n",
      "D_Age       demographic  Numeric               NaN   \n",
      "Study                id   Factor               NaN   \n",
      "D_PFS_FLAG     response  Numeric   0=\"No\"; 1=\"Yes\"   \n",
      "\n",
      "                                                  description  \\\n",
      "names                                                           \n",
      "D_OS_FLAG                            Is the patient deceased?   \n",
      "D_ISS                                       ISS Disease Stage   \n",
      "D_Gender                                        Gender string   \n",
      "D_OS        Overall Survival time: number of days from (tr...   \n",
      "D_PFS       Progression-free survival: number of days from...   \n",
      "D_Age                                Age at diagnosis (years)   \n",
      "Study                    Study cohort this patient belongs to   \n",
      "D_PFS_FLAG  Has the patient developed progressive disease ...   \n",
      "\n",
      "                                MMRF_IA8                        GSE15695_UAMS  \\\n",
      "names                                                                           \n",
      "D_OS_FLAG    STAND_ALONE_SURVIVAL.censos                                  NaN   \n",
      "D_ISS              PER_PATIENT::D_PT_iss  GSE15695_My9_GEP_clinical_data::iss   \n",
      "D_Gender       PER_PATIENT::DEMOG_GENDER  GSE15695_My9_GEP_clinical_data::sex   \n",
      "D_OS          STAND_ALONE_SURVIVAL.ttcos                                  NaN   \n",
      "D_PFS        STAND_ALONE_SURVIVAL.ttcpfs                                  NaN   \n",
      "D_Age              PER_PATIENT::D_PT_age  GSE15695_My9_GEP_clinical_data::age   \n",
      "Study                               MMRF                             GSE15695   \n",
      "D_PFS_FLAG  STAND_ALONE_SURVIVAL.censpfs                                  NaN   \n",
      "\n",
      "                                                     Hose  \\\n",
      "names                                                       \n",
      "D_OS_FLAG                                       OS_STATUS   \n",
      "D_ISS                                                 ISS   \n",
      "D_Gender    recode(sex, \"male\"=\"Male\", \"female\"=\"Female\")   \n",
      "D_OS                          as.numeric(OS) /12 * 365.25   \n",
      "D_PFS            as.integer(as.numeric(EFS) /12 * 365.25)   \n",
      "D_Age                                                 age   \n",
      "Study                                                Hose   \n",
      "D_PFS_FLAG                                     EFS_STATUS   \n",
      "\n",
      "                                            UAMS.UK.MyelomaXI  \\\n",
      "names                                                           \n",
      "D_OS_FLAG                                           OS_status   \n",
      "D_ISS       ISS column. `Stage I` = 1, `Stage II` = 2, `St...   \n",
      "D_Gender    ifelse(grepl(\"M\",toupper(df$Gender) ), \"Male\",...   \n",
      "D_OS                                      OS_months/12*365.25   \n",
      "D_PFS                                    PFS_months/12*365.25   \n",
      "D_Age                                                     Age   \n",
      "Study                                                  \"UAMS\"   \n",
      "D_PFS_FLAG                                         PFS_status   \n",
      "\n",
      "                                   M2GEN  active  \n",
      "names                                             \n",
      "D_OS_FLAG                            NaN     1.0  \n",
      "D_ISS                                NaN     1.0  \n",
      "D_Gender            Demographics::Gender     1.0  \n",
      "D_OS                                 NaN     1.0  \n",
      "D_PFS                                NaN     1.0  \n",
      "D_Age       Demographics::AgeAtDiagnosis     1.0  \n",
      "Study                                NaN     1.0  \n",
      "D_PFS_FLAG                           NaN     1.0  \n",
      "the rna data has 734 samples\n",
      "downloading gene names from biomart\n",
      "\n",
      "We are using these pathways & genesets: \n",
      "['BIOCARTA_DEATH_PATHWAY', 'BIOCARTA_CELLCYCLE_PATHWAY', 'BIOCARTA_ERK_PATHWAY', 'BIOCARTA_NFKB_PATHWAY', 'BIOCARTA_P53_PATHWAY', 'BIOCARTA_RAS_PATHWAY', 'BORTEZOMIB_ABNORMALITY_OF_CHROMOSOME_STABILITY', 'REACTOME_ANTIGEN_PROCESSING_UBIQUITINATION_PROTEASOME_DEGRADATION', 'REACTOME_DNA_REPAIR', 'UAMS17', 'THALIDOMIDE']\n",
      "choosing logistic regression as best clf\n"
     ]
    }
   ],
   "source": [
    "## training the model\n",
    "clf = main(syn_login, syn_password, showcase=False)"
   ]
  },
  {
   "cell_type": "markdown",
   "metadata": {},
   "source": [
    "## reading your files\n",
    "\n",
    "they should look exactly like the files on synapse"
   ]
  },
  {
   "cell_type": "code",
   "execution_count": 15,
   "metadata": {
    "ExecuteTime": {
     "end_time": "2022-05-14T21:15:53.404228Z",
     "start_time": "2022-05-14T21:15:53.401101Z"
    }
   },
   "outputs": [],
   "source": [
    "import pandas as pd"
   ]
  },
  {
   "cell_type": "code",
   "execution_count": 16,
   "metadata": {
    "ExecuteTime": {
     "end_time": "2022-05-14T21:15:54.699826Z",
     "start_time": "2022-05-14T21:15:54.678262Z"
    }
   },
   "outputs": [
    {
     "ename": "FileNotFoundError",
     "evalue": "[Errno 2] No such file or directory: 'my_rna.csv'",
     "output_type": "error",
     "traceback": [
      "\u001b[0;31m------------------------------------------------------------------\u001b[0m",
      "\u001b[0;31mFileNotFoundError\u001b[0m                Traceback (most recent call last)",
      "\u001b[0;32m<ipython-input-16-f9c83592d579>\u001b[0m in \u001b[0;36m<module>\u001b[0;34m\u001b[0m\n\u001b[0;32m----> 1\u001b[0;31m \u001b[0mnew_rna_data\u001b[0m \u001b[0;34m=\u001b[0m \u001b[0mpd\u001b[0m\u001b[0;34m.\u001b[0m\u001b[0mread_csv\u001b[0m\u001b[0;34m(\u001b[0m\u001b[0;34m\"my_rna.csv\"\u001b[0m\u001b[0;34m,\u001b[0m \u001b[0msep\u001b[0m\u001b[0;34m=\u001b[0m\u001b[0;34m\"\\t\"\u001b[0m\u001b[0;34m,\u001b[0m \u001b[0mindex_col\u001b[0m\u001b[0;34m=\u001b[0m\u001b[0;36m0\u001b[0m\u001b[0;34m)\u001b[0m\u001b[0;34m\u001b[0m\u001b[0;34m\u001b[0m\u001b[0m\n\u001b[0m\u001b[1;32m      2\u001b[0m \u001b[0mnew_clinical_data\u001b[0m \u001b[0;34m=\u001b[0m \u001b[0mpd\u001b[0m\u001b[0;34m.\u001b[0m\u001b[0mread_csv\u001b[0m\u001b[0;34m(\u001b[0m\u001b[0;34m\"my_clinical.csv\"\u001b[0m\u001b[0;34m,\u001b[0m \u001b[0msep\u001b[0m\u001b[0;34m=\u001b[0m\u001b[0;34m\",\"\u001b[0m\u001b[0;34m)\u001b[0m\u001b[0;34m.\u001b[0m\u001b[0mset_index\u001b[0m\u001b[0;34m(\u001b[0m\u001b[0;34m\"Patient\"\u001b[0m\u001b[0;34m)\u001b[0m\u001b[0;34m\u001b[0m\u001b[0;34m\u001b[0m\u001b[0m\n",
      "\u001b[0;32m~/miniconda3/envs/gae/lib/python3.8/site-packages/pandas/util/_decorators.py\u001b[0m in \u001b[0;36mwrapper\u001b[0;34m(*args, **kwargs)\u001b[0m\n\u001b[1;32m    309\u001b[0m                     \u001b[0mstacklevel\u001b[0m\u001b[0;34m=\u001b[0m\u001b[0mstacklevel\u001b[0m\u001b[0;34m,\u001b[0m\u001b[0;34m\u001b[0m\u001b[0;34m\u001b[0m\u001b[0m\n\u001b[1;32m    310\u001b[0m                 )\n\u001b[0;32m--> 311\u001b[0;31m             \u001b[0;32mreturn\u001b[0m \u001b[0mfunc\u001b[0m\u001b[0;34m(\u001b[0m\u001b[0;34m*\u001b[0m\u001b[0margs\u001b[0m\u001b[0;34m,\u001b[0m \u001b[0;34m**\u001b[0m\u001b[0mkwargs\u001b[0m\u001b[0;34m)\u001b[0m\u001b[0;34m\u001b[0m\u001b[0;34m\u001b[0m\u001b[0m\n\u001b[0m\u001b[1;32m    312\u001b[0m \u001b[0;34m\u001b[0m\u001b[0m\n\u001b[1;32m    313\u001b[0m         \u001b[0;32mreturn\u001b[0m \u001b[0mwrapper\u001b[0m\u001b[0;34m\u001b[0m\u001b[0;34m\u001b[0m\u001b[0m\n",
      "\u001b[0;32m~/miniconda3/envs/gae/lib/python3.8/site-packages/pandas/io/parsers/readers.py\u001b[0m in \u001b[0;36mread_csv\u001b[0;34m(filepath_or_buffer, sep, delimiter, header, names, index_col, usecols, squeeze, prefix, mangle_dupe_cols, dtype, engine, converters, true_values, false_values, skipinitialspace, skiprows, skipfooter, nrows, na_values, keep_default_na, na_filter, verbose, skip_blank_lines, parse_dates, infer_datetime_format, keep_date_col, date_parser, dayfirst, cache_dates, iterator, chunksize, compression, thousands, decimal, lineterminator, quotechar, quoting, doublequote, escapechar, comment, encoding, encoding_errors, dialect, error_bad_lines, warn_bad_lines, on_bad_lines, delim_whitespace, low_memory, memory_map, float_precision, storage_options)\u001b[0m\n\u001b[1;32m    678\u001b[0m     \u001b[0mkwds\u001b[0m\u001b[0;34m.\u001b[0m\u001b[0mupdate\u001b[0m\u001b[0;34m(\u001b[0m\u001b[0mkwds_defaults\u001b[0m\u001b[0;34m)\u001b[0m\u001b[0;34m\u001b[0m\u001b[0;34m\u001b[0m\u001b[0m\n\u001b[1;32m    679\u001b[0m \u001b[0;34m\u001b[0m\u001b[0m\n\u001b[0;32m--> 680\u001b[0;31m     \u001b[0;32mreturn\u001b[0m \u001b[0m_read\u001b[0m\u001b[0;34m(\u001b[0m\u001b[0mfilepath_or_buffer\u001b[0m\u001b[0;34m,\u001b[0m \u001b[0mkwds\u001b[0m\u001b[0;34m)\u001b[0m\u001b[0;34m\u001b[0m\u001b[0;34m\u001b[0m\u001b[0m\n\u001b[0m\u001b[1;32m    681\u001b[0m \u001b[0;34m\u001b[0m\u001b[0m\n\u001b[1;32m    682\u001b[0m \u001b[0;34m\u001b[0m\u001b[0m\n",
      "\u001b[0;32m~/miniconda3/envs/gae/lib/python3.8/site-packages/pandas/io/parsers/readers.py\u001b[0m in \u001b[0;36m_read\u001b[0;34m(filepath_or_buffer, kwds)\u001b[0m\n\u001b[1;32m    573\u001b[0m \u001b[0;34m\u001b[0m\u001b[0m\n\u001b[1;32m    574\u001b[0m     \u001b[0;31m# Create the parser.\u001b[0m\u001b[0;34m\u001b[0m\u001b[0;34m\u001b[0m\u001b[0;34m\u001b[0m\u001b[0m\n\u001b[0;32m--> 575\u001b[0;31m     \u001b[0mparser\u001b[0m \u001b[0;34m=\u001b[0m \u001b[0mTextFileReader\u001b[0m\u001b[0;34m(\u001b[0m\u001b[0mfilepath_or_buffer\u001b[0m\u001b[0;34m,\u001b[0m \u001b[0;34m**\u001b[0m\u001b[0mkwds\u001b[0m\u001b[0;34m)\u001b[0m\u001b[0;34m\u001b[0m\u001b[0;34m\u001b[0m\u001b[0m\n\u001b[0m\u001b[1;32m    576\u001b[0m \u001b[0;34m\u001b[0m\u001b[0m\n\u001b[1;32m    577\u001b[0m     \u001b[0;32mif\u001b[0m \u001b[0mchunksize\u001b[0m \u001b[0;32mor\u001b[0m \u001b[0miterator\u001b[0m\u001b[0;34m:\u001b[0m\u001b[0;34m\u001b[0m\u001b[0;34m\u001b[0m\u001b[0m\n",
      "\u001b[0;32m~/miniconda3/envs/gae/lib/python3.8/site-packages/pandas/io/parsers/readers.py\u001b[0m in \u001b[0;36m__init__\u001b[0;34m(self, f, engine, **kwds)\u001b[0m\n\u001b[1;32m    931\u001b[0m \u001b[0;34m\u001b[0m\u001b[0m\n\u001b[1;32m    932\u001b[0m         \u001b[0mself\u001b[0m\u001b[0;34m.\u001b[0m\u001b[0mhandles\u001b[0m\u001b[0;34m:\u001b[0m \u001b[0mIOHandles\u001b[0m \u001b[0;34m|\u001b[0m \u001b[0;32mNone\u001b[0m \u001b[0;34m=\u001b[0m \u001b[0;32mNone\u001b[0m\u001b[0;34m\u001b[0m\u001b[0;34m\u001b[0m\u001b[0m\n\u001b[0;32m--> 933\u001b[0;31m         \u001b[0mself\u001b[0m\u001b[0;34m.\u001b[0m\u001b[0m_engine\u001b[0m \u001b[0;34m=\u001b[0m \u001b[0mself\u001b[0m\u001b[0;34m.\u001b[0m\u001b[0m_make_engine\u001b[0m\u001b[0;34m(\u001b[0m\u001b[0mf\u001b[0m\u001b[0;34m,\u001b[0m \u001b[0mself\u001b[0m\u001b[0;34m.\u001b[0m\u001b[0mengine\u001b[0m\u001b[0;34m)\u001b[0m\u001b[0;34m\u001b[0m\u001b[0;34m\u001b[0m\u001b[0m\n\u001b[0m\u001b[1;32m    934\u001b[0m \u001b[0;34m\u001b[0m\u001b[0m\n\u001b[1;32m    935\u001b[0m     \u001b[0;32mdef\u001b[0m \u001b[0mclose\u001b[0m\u001b[0;34m(\u001b[0m\u001b[0mself\u001b[0m\u001b[0;34m)\u001b[0m\u001b[0;34m:\u001b[0m\u001b[0;34m\u001b[0m\u001b[0;34m\u001b[0m\u001b[0m\n",
      "\u001b[0;32m~/miniconda3/envs/gae/lib/python3.8/site-packages/pandas/io/parsers/readers.py\u001b[0m in \u001b[0;36m_make_engine\u001b[0;34m(self, f, engine)\u001b[0m\n\u001b[1;32m   1215\u001b[0m             \u001b[0;31m# \"Union[str, PathLike[str], ReadCsvBuffer[bytes], ReadCsvBuffer[str]]\"\u001b[0m\u001b[0;34m\u001b[0m\u001b[0;34m\u001b[0m\u001b[0;34m\u001b[0m\u001b[0m\n\u001b[1;32m   1216\u001b[0m             \u001b[0;31m# , \"str\", \"bool\", \"Any\", \"Any\", \"Any\", \"Any\", \"Any\"\u001b[0m\u001b[0;34m\u001b[0m\u001b[0;34m\u001b[0m\u001b[0;34m\u001b[0m\u001b[0m\n\u001b[0;32m-> 1217\u001b[0;31m             self.handles = get_handle(  # type: ignore[call-overload]\n\u001b[0m\u001b[1;32m   1218\u001b[0m                 \u001b[0mf\u001b[0m\u001b[0;34m,\u001b[0m\u001b[0;34m\u001b[0m\u001b[0;34m\u001b[0m\u001b[0m\n\u001b[1;32m   1219\u001b[0m                 \u001b[0mmode\u001b[0m\u001b[0;34m,\u001b[0m\u001b[0;34m\u001b[0m\u001b[0;34m\u001b[0m\u001b[0m\n",
      "\u001b[0;32m~/miniconda3/envs/gae/lib/python3.8/site-packages/pandas/io/common.py\u001b[0m in \u001b[0;36mget_handle\u001b[0;34m(path_or_buf, mode, encoding, compression, memory_map, is_text, errors, storage_options)\u001b[0m\n\u001b[1;32m    787\u001b[0m         \u001b[0;32mif\u001b[0m \u001b[0mioargs\u001b[0m\u001b[0;34m.\u001b[0m\u001b[0mencoding\u001b[0m \u001b[0;32mand\u001b[0m \u001b[0;34m\"b\"\u001b[0m \u001b[0;32mnot\u001b[0m \u001b[0;32min\u001b[0m \u001b[0mioargs\u001b[0m\u001b[0;34m.\u001b[0m\u001b[0mmode\u001b[0m\u001b[0;34m:\u001b[0m\u001b[0;34m\u001b[0m\u001b[0;34m\u001b[0m\u001b[0m\n\u001b[1;32m    788\u001b[0m             \u001b[0;31m# Encoding\u001b[0m\u001b[0;34m\u001b[0m\u001b[0;34m\u001b[0m\u001b[0;34m\u001b[0m\u001b[0m\n\u001b[0;32m--> 789\u001b[0;31m             handle = open(\n\u001b[0m\u001b[1;32m    790\u001b[0m                 \u001b[0mhandle\u001b[0m\u001b[0;34m,\u001b[0m\u001b[0;34m\u001b[0m\u001b[0;34m\u001b[0m\u001b[0m\n\u001b[1;32m    791\u001b[0m                 \u001b[0mioargs\u001b[0m\u001b[0;34m.\u001b[0m\u001b[0mmode\u001b[0m\u001b[0;34m,\u001b[0m\u001b[0;34m\u001b[0m\u001b[0;34m\u001b[0m\u001b[0m\n",
      "\u001b[0;31mFileNotFoundError\u001b[0m: [Errno 2] No such file or directory: 'my_rna.csv'"
     ]
    }
   ],
   "source": [
    "new_rna_data = pd.read_csv(\"my_rna.csv\", sep=\"\\t\", index_col=0)\n",
    "new_clinical_data = pd.read_csv(\"my_clinical.csv\", sep=\",\").set_index(\"Patient\")"
   ]
  },
  {
   "cell_type": "markdown",
   "metadata": {},
   "source": [
    "## preprocess and predict"
   ]
  },
  {
   "cell_type": "code",
   "execution_count": null,
   "metadata": {},
   "outputs": [],
   "source": [
    "new_rna_data, new_clinical_data = preprocess(new_rna_data, new_clinical_data)\n",
    "\n",
    "res = predict(clf, new_rna_data, new_clinical_data)"
   ]
  },
  {
   "cell_type": "markdown",
   "metadata": {
    "ExecuteTime": {
     "end_time": "2022-05-14T20:53:48.967692Z",
     "start_time": "2022-05-14T20:53:48.964803Z"
    }
   },
   "source": [
    "## saving"
   ]
  },
  {
   "cell_type": "code",
   "execution_count": null,
   "metadata": {},
   "outputs": [],
   "source": [
    "res.to_csv(\"new_predictions.csv\"s )"
   ]
  }
 ],
 "metadata": {
  "kernelspec": {
   "display_name": "gae",
   "language": "python",
   "name": "gae"
  },
  "language_info": {
   "codemirror_mode": {
    "name": "ipython",
    "version": 3
   },
   "file_extension": ".py",
   "mimetype": "text/x-python",
   "name": "python",
   "nbconvert_exporter": "python",
   "pygments_lexer": "ipython3",
   "version": "3.8.12"
  },
  "latex_envs": {
   "LaTeX_envs_menu_present": true,
   "autoclose": false,
   "autocomplete": true,
   "bibliofile": "biblio.bib",
   "cite_by": "apalike",
   "current_citInitial": 1,
   "eqLabelWithNumbers": true,
   "eqNumInitial": 1,
   "hotkeys": {
    "equation": "Ctrl-E",
    "itemize": "Ctrl-I"
   },
   "labels_anchors": false,
   "latex_user_defs": false,
   "report_style_numbering": false,
   "user_envs_cfg": false
  },
  "toc": {
   "base_numbering": 1,
   "nav_menu": {},
   "number_sections": true,
   "sideBar": true,
   "skip_h1_title": false,
   "title_cell": "Table of Contents",
   "title_sidebar": "Contents",
   "toc_cell": false,
   "toc_position": {},
   "toc_section_display": true,
   "toc_window_display": false
  },
  "varInspector": {
   "cols": {
    "lenName": 16,
    "lenType": 16,
    "lenVar": 40
   },
   "kernels_config": {
    "python": {
     "delete_cmd_postfix": "",
     "delete_cmd_prefix": "del ",
     "library": "var_list.py",
     "varRefreshCmd": "print(var_dic_list())"
    },
    "r": {
     "delete_cmd_postfix": ") ",
     "delete_cmd_prefix": "rm(",
     "library": "var_list.r",
     "varRefreshCmd": "cat(var_dic_list()) "
    }
   },
   "types_to_exclude": [
    "module",
    "function",
    "builtin_function_or_method",
    "instance",
    "_Feature"
   ],
   "window_display": false
  }
 },
 "nbformat": 4,
 "nbformat_minor": 2
}
