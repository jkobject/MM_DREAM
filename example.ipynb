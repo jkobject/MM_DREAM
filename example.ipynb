{
 "cells": [
  {
   "cell_type": "markdown",
   "metadata": {},
   "source": [
    "# showing the pipeline"
   ]
  },
  {
   "cell_type": "code",
   "execution_count": 2,
   "metadata": {
    "ExecuteTime": {
     "end_time": "2022-05-15T15:07:44.104705Z",
     "start_time": "2022-05-15T15:07:40.404632Z"
    }
   },
   "outputs": [],
   "source": [
    "from mm_dream import load_data, preprocess, make_dataset, show_metrics, main, DEFAULT_FEATURES"
   ]
  },
  {
   "cell_type": "code",
   "execution_count": 3,
   "metadata": {
    "ExecuteTime": {
     "end_time": "2022-05-15T15:07:44.134225Z",
     "start_time": "2022-05-15T15:07:44.131640Z"
    }
   },
   "outputs": [],
   "source": [
    "from sklearn import preprocessing\n",
    "from sklearn import svm\n",
    "from sklearn.linear_model import LogisticRegression\n",
    "from sklearn.neighbors import KNeighborsClassifier"
   ]
  },
  {
   "cell_type": "code",
   "execution_count": 4,
   "metadata": {
    "ExecuteTime": {
     "end_time": "2022-05-15T15:07:44.162749Z",
     "start_time": "2022-05-15T15:07:44.160110Z"
    }
   },
   "outputs": [],
   "source": [
    "import warnings\n",
    "warnings.filterwarnings('ignore')"
   ]
  },
  {
   "cell_type": "code",
   "execution_count": 7,
   "metadata": {
    "ExecuteTime": {
     "end_time": "2022-05-15T15:10:40.937281Z",
     "start_time": "2022-05-15T15:09:17.520699Z"
    }
   },
   "outputs": [
    {
     "name": "stdout",
     "output_type": "stream",
     "text": [
      "Welcome, jkobject!\n",
      "\n",
      "\n",
      "here is our clinical data: \n",
      "               category     type controlled_values  \\\n",
      "names                                                \n",
      "D_ISS          response   Factor           1; 2; 3   \n",
      "D_Age       demographic  Numeric               NaN   \n",
      "Study                id   Factor               NaN   \n",
      "D_PFS          response  Numeric               NaN   \n",
      "D_OS           response  Numeric               NaN   \n",
      "D_Gender    demographic   Factor      Male; Female   \n",
      "D_PFS_FLAG     response  Numeric   0=\"No\"; 1=\"Yes\"   \n",
      "D_OS_FLAG      response  Numeric   0=\"No\"; 1=\"Yes\"   \n",
      "\n",
      "                                                  description  \\\n",
      "names                                                           \n",
      "D_ISS                                       ISS Disease Stage   \n",
      "D_Age                                Age at diagnosis (years)   \n",
      "Study                    Study cohort this patient belongs to   \n",
      "D_PFS       Progression-free survival: number of days from...   \n",
      "D_OS        Overall Survival time: number of days from (tr...   \n",
      "D_Gender                                        Gender string   \n",
      "D_PFS_FLAG  Has the patient developed progressive disease ...   \n",
      "D_OS_FLAG                            Is the patient deceased?   \n",
      "\n",
      "                                MMRF_IA8                        GSE15695_UAMS  \\\n",
      "names                                                                           \n",
      "D_ISS              PER_PATIENT::D_PT_iss  GSE15695_My9_GEP_clinical_data::iss   \n",
      "D_Age              PER_PATIENT::D_PT_age  GSE15695_My9_GEP_clinical_data::age   \n",
      "Study                               MMRF                             GSE15695   \n",
      "D_PFS        STAND_ALONE_SURVIVAL.ttcpfs                                  NaN   \n",
      "D_OS          STAND_ALONE_SURVIVAL.ttcos                                  NaN   \n",
      "D_Gender       PER_PATIENT::DEMOG_GENDER  GSE15695_My9_GEP_clinical_data::sex   \n",
      "D_PFS_FLAG  STAND_ALONE_SURVIVAL.censpfs                                  NaN   \n",
      "D_OS_FLAG    STAND_ALONE_SURVIVAL.censos                                  NaN   \n",
      "\n",
      "                                                     Hose  \\\n",
      "names                                                       \n",
      "D_ISS                                                 ISS   \n",
      "D_Age                                                 age   \n",
      "Study                                                Hose   \n",
      "D_PFS            as.integer(as.numeric(EFS) /12 * 365.25)   \n",
      "D_OS                          as.numeric(OS) /12 * 365.25   \n",
      "D_Gender    recode(sex, \"male\"=\"Male\", \"female\"=\"Female\")   \n",
      "D_PFS_FLAG                                     EFS_STATUS   \n",
      "D_OS_FLAG                                       OS_STATUS   \n",
      "\n",
      "                                            UAMS.UK.MyelomaXI  \\\n",
      "names                                                           \n",
      "D_ISS       ISS column. `Stage I` = 1, `Stage II` = 2, `St...   \n",
      "D_Age                                                     Age   \n",
      "Study                                                  \"UAMS\"   \n",
      "D_PFS                                    PFS_months/12*365.25   \n",
      "D_OS                                      OS_months/12*365.25   \n",
      "D_Gender    ifelse(grepl(\"M\",toupper(df$Gender) ), \"Male\",...   \n",
      "D_PFS_FLAG                                         PFS_status   \n",
      "D_OS_FLAG                                           OS_status   \n",
      "\n",
      "                                   M2GEN  active  \n",
      "names                                             \n",
      "D_ISS                                NaN     1.0  \n",
      "D_Age       Demographics::AgeAtDiagnosis     1.0  \n",
      "Study                                NaN     1.0  \n",
      "D_PFS                                NaN     1.0  \n",
      "D_OS                                 NaN     1.0  \n",
      "D_Gender            Demographics::Gender     1.0  \n",
      "D_PFS_FLAG                           NaN     1.0  \n",
      "D_OS_FLAG                            NaN     1.0  \n",
      "the rna data has 734 samples\n",
      "downloading gene names from biomart\n"
     ]
    }
   ],
   "source": [
    "rna_data, clinical_data = load_data(syn_login, syn_password)\n",
    "rna_data, unc_clinical_data = preprocess(rna_data, clinical_data)"
   ]
  },
  {
   "cell_type": "code",
   "execution_count": 8,
   "metadata": {
    "ExecuteTime": {
     "end_time": "2022-05-15T15:10:49.337735Z",
     "start_time": "2022-05-15T15:10:41.293458Z"
    },
    "scrolled": true
   },
   "outputs": [
    {
     "name": "stdout",
     "output_type": "stream",
     "text": [
      "\n",
      "We are using these pathways & genesets: \n",
      "['BIOCARTA_DEATH_PATHWAY', 'BIOCARTA_CELLCYCLE_PATHWAY', 'BIOCARTA_ERK_PATHWAY', 'BIOCARTA_NFKB_PATHWAY', 'BIOCARTA_P53_PATHWAY', 'BIOCARTA_RAS_PATHWAY', 'BORTEZOMIB_ABNORMALITY_OF_CHROMOSOME_STABILITY', 'REACTOME_ANTIGEN_PROCESSING_UBIQUITINATION_PROTEASOME_DEGRADATION', 'REACTOME_DNA_REPAIR', 'UAMS17', 'THALIDOMIDE']\n"
     ]
    }
   ],
   "source": [
    "X = make_dataset(rna_data, unc_clinical_data)"
   ]
  },
  {
   "cell_type": "markdown",
   "metadata": {},
   "source": [
    "## generating the output data\n"
   ]
  },
  {
   "cell_type": "code",
   "execution_count": 9,
   "metadata": {
    "ExecuteTime": {
     "end_time": "2022-05-15T15:10:51.351779Z",
     "start_time": "2022-05-15T15:10:51.344440Z"
    }
   },
   "outputs": [],
   "source": [
    "Y = (\n",
    "    unc_clinical_data.replace({\"FALSE\": 0, \"TRUE\": 1})[\"to_pred\"]\n",
    "    .loc[X.index]\n",
    "    .values\n",
    ")"
   ]
  },
  {
   "cell_type": "markdown",
   "metadata": {},
   "source": [
    "## scaling the data"
   ]
  },
  {
   "cell_type": "code",
   "execution_count": 10,
   "metadata": {
    "ExecuteTime": {
     "end_time": "2022-05-15T15:10:52.298990Z",
     "start_time": "2022-05-15T15:10:52.296340Z"
    }
   },
   "outputs": [],
   "source": [
    "predict_on = [\n",
    "    \"age\",\n",
    "    \"stage\",\n",
    "    \"PHF19\",\n",
    "    \"BCL2A1\",\n",
    "    \"BIOCARTA_DEATH_PATHWAY\",\n",
    "    \"BIOCARTA_CELLCYCLE_PATHWAY\",\n",
    "    \"BIOCARTA_ERK_PATHWAY\",\n",
    "    \"BIOCARTA_NFKB_PATHWAY\",\n",
    "    \"BIOCARTA_P53_PATHWAY\",\n",
    "    \"BIOCARTA_RAS_PATHWAY\",\n",
    "    \"BORTEZOMIB_ABNORMALITY_OF_CHROMOSOME_STABILITY\",\n",
    "    \"REACTOME_ANTIGEN_PROCESSING_UBIQUITINATION_PROTEASOME_DEGRADATION\",\n",
    "    \"REACTOME_DNA_REPAIR\",\n",
    "    \"UAMS17\",\n",
    "    \"THALIDOMIDE\",\n",
    "]"
   ]
  },
  {
   "cell_type": "code",
   "execution_count": 11,
   "metadata": {
    "ExecuteTime": {
     "end_time": "2022-05-15T15:10:53.235743Z",
     "start_time": "2022-05-15T15:10:53.181340Z"
    }
   },
   "outputs": [],
   "source": [
    "scaler = preprocessing.StandardScaler().fit(X[predict_on].values)\n",
    "X_scaled = scaler.transform(X[predict_on].values)"
   ]
  },
  {
   "cell_type": "markdown",
   "metadata": {
    "ExecuteTime": {
     "end_time": "2022-05-14T19:38:40.262144Z",
     "start_time": "2022-05-14T19:38:40.258848Z"
    }
   },
   "source": [
    "## finding the best predictors"
   ]
  },
  {
   "cell_type": "code",
   "execution_count": 10,
   "metadata": {
    "ExecuteTime": {
     "end_time": "2022-05-14T21:13:46.661927Z",
     "start_time": "2022-05-14T21:13:46.583045Z"
    }
   },
   "outputs": [
    {
     "name": "stdout",
     "output_type": "stream",
     "text": [
      "\n",
      "The best predictors according to logistic regression are: \n",
      "\n",
      "['age' 'stage' 'PHF19' 'BIOCARTA_P53_PATHWAY' 'BIOCARTA_RAS_PATHWAY'\n",
      " 'REACTOME_ANTIGEN_PROCESSING_UBIQUITINATION_PROTEASOME_DEGRADATION'\n",
      " 'REACTOME_DNA_REPAIR' 'UAMS17']\n"
     ]
    }
   ],
   "source": [
    "clf = LogisticRegression()\n",
    "clf = clf.fit(X_scaled, Y)\n",
    "\n",
    "best_pred = np.array(predict_on)[abs(clf.coef_[0]) > 0.2]\n",
    "print(\"\\nThe best predictors according to logistic regression are: \\n\")\n",
    "print(best_pred)"
   ]
  },
  {
   "cell_type": "markdown",
   "metadata": {},
   "source": [
    "## showing a few models' predictions"
   ]
  },
  {
   "cell_type": "code",
   "execution_count": 45,
   "metadata": {
    "ExecuteTime": {
     "end_time": "2022-05-15T15:36:49.233437Z",
     "start_time": "2022-05-15T15:36:46.616497Z"
    },
    "scrolled": false
   },
   "outputs": [
    {
     "name": "stdout",
     "output_type": "stream",
     "text": [
      "\n",
      "\n",
      "KNeighborsClassifier:\n",
      "\n"
     ]
    },
    {
     "data": {
      "image/png": "[encoded data removed]",
      "text/plain": [
       "<Figure size 640x480 with 1 Axes>"
      ]
     },
     "metadata": {},
     "output_type": "display_data"
    },
    {
     "data": {
      "image/png": "[encoded data removed]",
      "text/plain": [
       "<Figure size 640x480 with 1 Axes>"
      ]
     },
     "metadata": {},
     "output_type": "display_data"
    },
    {
     "name": "stdout",
     "output_type": "stream",
     "text": [
      "precision, recall, f1_score:\n",
      "0.7032117093348159 0.7188328912466844 0.6828149370647434\n",
      "k-fold CV score:\n",
      "0.6900000000000002\n",
      "a KNN with 15 neigbhors shows a lower f1 score overall (CV=100) but a really good AUC. However, this is likely due to overfitting.\n",
      "_______________________________________\n",
      "\n",
      "\n",
      "svm:\n",
      "\n"
     ]
    },
    {
     "data": {
      "image/png": "[encoded data removed]",
      "text/plain": [
       "<Figure size 640x480 with 1 Axes>"
      ]
     },
     "metadata": {},
     "output_type": "display_data"
    },
    {
     "data": {
      "image/png": "[encoded data removed]",
      "text/plain": [
       "<Figure size 640x480 with 1 Axes>"
      ]
     },
     "metadata": {},
     "output_type": "display_data"
    },
    {
     "name": "stdout",
     "output_type": "stream",
     "text": [
      "precision, recall, f1_score:\n",
      "0.7820701695983681 0.7718832891246684 0.7426611753544143\n",
      "k-fold CV score:\n",
      "0.6991666666666668\n",
      "\n",
      "SVM is able to get a very good precision and in medical applications, this is often what we are looking for: FPs need to be as low as possible. However, the kaplan-meyer curve is worrying. But it might be due to it being based on survival data whereas we are looking at risk / fast progression?\n",
      "_______________________________________\n",
      "\n",
      "\n",
      "LogisticRegression:\n",
      "\n"
     ]
    },
    {
     "data": {
      "image/png": "[encoded data removed]",
      "text/plain": [
       "<Figure size 640x480 with 1 Axes>"
      ]
     },
     "metadata": {},
     "output_type": "display_data"
    },
    {
     "data": {
      "image/png": "[encoded data removed]",
      "text/plain": [
       "<Figure size 640x480 with 1 Axes>"
      ]
     },
     "metadata": {},
     "output_type": "display_data"
    },
    {
     "name": "stdout",
     "output_type": "stream",
     "text": [
      "precision, recall, f1_score:\n",
      "0.7011262919188603 0.7161803713527851 0.6752817462861146\n",
      "k-fold CV score:\n",
      "0.7058333333333335\n",
      "logistic regression with elasticnet and a high l1_ratio shows a good f1 score. Lower precision, But by far the best K-M curve of all.\n"
     ]
    }
   ],
   "source": [
    "print(\"\\n\\nKNeighborsClassifier:\\n\")\n",
    "clf = KNeighborsClassifier(n_neighbors=15)\n",
    "clf = clf.fit(X_scaled, Y)\n",
    "show_metrics(clf, X_scaled, Y, clinical_data=unc_clinical_data)\n",
    "print(\n",
    "    \"a KNN with 15 neigbhors shows a lower f1 score overall (CV=100) but a really good AUC. However, this is likely due to overfitting.\"\n",
    ")\n",
    "\n",
    "print(\"_______________________________________\\n\\n\")\n",
    "print(\"svm:\\n\")\n",
    "clf = svm.SVC(C=0.9)\n",
    "clf = clf.fit(X_scaled, Y)\n",
    "show_metrics(clf, X_scaled, Y, clinical_data=unc_clinical_data)\n",
    "print(\n",
    "    \"\\nSVM is able to get a very good precision and in medical applications, \\\n",
    "this is often what we are looking for: FPs need to be as low as possible. \\\n",
    "However, the kaplan-meyer curve is worrying. But it might be due to it \\\n",
    "being based on survival data whereas we are looking at risk / fast progression?\"\n",
    ")\n",
    "\n",
    "print(\"_______________________________________\\n\\n\")\n",
    "print(\"LogisticRegression:\\n\")\n",
    "clf = LogisticRegression(\n",
    "    penalty=\"elasticnet\", solver=\"saga\", l1_ratio=1, max_iter=800, C=0.2\n",
    ")\n",
    "clf = clf.fit(X_scaled, Y)\n",
    "show_metrics(clf, X_scaled, Y, clinical_data=unc_clinical_data)\n",
    "print(\n",
    "    \"logistic regression with elasticnet and a high l1_ratio \\\n",
    "shows a good f1 score. Lower precision, But by far the best K-M curve of all.\"\n",
    ")"
   ]
  },
  {
   "cell_type": "markdown",
   "metadata": {
    "ExecuteTime": {
     "end_time": "2022-05-14T20:51:07.138946Z",
     "start_time": "2022-05-14T20:51:07.136066Z"
    }
   },
   "source": [
    "# Using the pipeline"
   ]
  },
  {
   "cell_type": "code",
   "execution_count": 12,
   "metadata": {
    "ExecuteTime": {
     "end_time": "2022-05-14T21:15:25.362582Z",
     "start_time": "2022-05-14T21:13:57.078352Z"
    },
    "scrolled": false
   },
   "outputs": [
    {
     "name": "stdout",
     "output_type": "stream",
     "text": [
      "Welcome, jkobject!\n",
      "\n",
      "\n",
      "here is our clinical data: \n",
      "               category     type controlled_values  \\\n",
      "names                                                \n",
      "D_OS_FLAG      response  Numeric   0=\"No\"; 1=\"Yes\"   \n",
      "D_ISS          response   Factor           1; 2; 3   \n",
      "D_Gender    demographic   Factor      Male; Female   \n",
      "D_OS           response  Numeric               NaN   \n",
      "D_PFS          response  Numeric               NaN   \n",
      "D_Age       demographic  Numeric               NaN   \n",
      "Study                id   Factor               NaN   \n",
      "D_PFS_FLAG     response  Numeric   0=\"No\"; 1=\"Yes\"   \n",
      "\n",
      "                                                  description  \\\n",
      "names                                                           \n",
      "D_OS_FLAG                            Is the patient deceased?   \n",
      "D_ISS                                       ISS Disease Stage   \n",
      "D_Gender                                        Gender string   \n",
      "D_OS        Overall Survival time: number of days from (tr...   \n",
      "D_PFS       Progression-free survival: number of days from...   \n",
      "D_Age                                Age at diagnosis (years)   \n",
      "Study                    Study cohort this patient belongs to   \n",
      "D_PFS_FLAG  Has the patient developed progressive disease ...   \n",
      "\n",
      "                                MMRF_IA8                        GSE15695_UAMS  \\\n",
      "names                                                                           \n",
      "D_OS_FLAG    STAND_ALONE_SURVIVAL.censos                                  NaN   \n",
      "D_ISS              PER_PATIENT::D_PT_iss  GSE15695_My9_GEP_clinical_data::iss   \n",
      "D_Gender       PER_PATIENT::DEMOG_GENDER  GSE15695_My9_GEP_clinical_data::sex   \n",
      "D_OS          STAND_ALONE_SURVIVAL.ttcos                                  NaN   \n",
      "D_PFS        STAND_ALONE_SURVIVAL.ttcpfs                                  NaN   \n",
      "D_Age              PER_PATIENT::D_PT_age  GSE15695_My9_GEP_clinical_data::age   \n",
      "Study                               MMRF                             GSE15695   \n",
      "D_PFS_FLAG  STAND_ALONE_SURVIVAL.censpfs                                  NaN   \n",
      "\n",
      "                                                     Hose  \\\n",
      "names                                                       \n",
      "D_OS_FLAG                                       OS_STATUS   \n",
      "D_ISS                                                 ISS   \n",
      "D_Gender    recode(sex, \"male\"=\"Male\", \"female\"=\"Female\")   \n",
      "D_OS                          as.numeric(OS) /12 * 365.25   \n",
      "D_PFS            as.integer(as.numeric(EFS) /12 * 365.25)   \n",
      "D_Age                                                 age   \n",
      "Study                                                Hose   \n",
      "D_PFS_FLAG                                     EFS_STATUS   \n",
      "\n",
      "                                            UAMS.UK.MyelomaXI  \\\n",
      "names                                                           \n",
      "D_OS_FLAG                                           OS_status   \n",
      "D_ISS       ISS column. `Stage I` = 1, `Stage II` = 2, `St...   \n",
      "D_Gender    ifelse(grepl(\"M\",toupper(df$Gender) ), \"Male\",...   \n",
      "D_OS                                      OS_months/12*365.25   \n",
      "D_PFS                                    PFS_months/12*365.25   \n",
      "D_Age                                                     Age   \n",
      "Study                                                  \"UAMS\"   \n",
      "D_PFS_FLAG                                         PFS_status   \n",
      "\n",
      "                                   M2GEN  active  \n",
      "names                                             \n",
      "D_OS_FLAG                            NaN     1.0  \n",
      "D_ISS                                NaN     1.0  \n",
      "D_Gender            Demographics::Gender     1.0  \n",
      "D_OS                                 NaN     1.0  \n",
      "D_PFS                                NaN     1.0  \n",
      "D_Age       Demographics::AgeAtDiagnosis     1.0  \n",
      "Study                                NaN     1.0  \n",
      "D_PFS_FLAG                           NaN     1.0  \n",
      "the rna data has 734 samples\n",
      "downloading gene names from biomart\n",
      "\n",
      "We are using these pathways & genesets: \n",
      "['BIOCARTA_DEATH_PATHWAY', 'BIOCARTA_CELLCYCLE_PATHWAY', 'BIOCARTA_ERK_PATHWAY', 'BIOCARTA_NFKB_PATHWAY', 'BIOCARTA_P53_PATHWAY', 'BIOCARTA_RAS_PATHWAY', 'BORTEZOMIB_ABNORMALITY_OF_CHROMOSOME_STABILITY', 'REACTOME_ANTIGEN_PROCESSING_UBIQUITINATION_PROTEASOME_DEGRADATION', 'REACTOME_DNA_REPAIR', 'UAMS17', 'THALIDOMIDE']\n",
      "choosing logistic regression as best clf\n"
     ]
    }
   ],
   "source": [
    "## training the model\n",
    "clf = main(syn_login, syn_password, showcase=False)"
   ]
  },
  {
   "cell_type": "markdown",
   "metadata": {},
   "source": [
    "## reading your files\n",
    "\n",
    "they should look exactly like the files on synapse"
   ]
  },
  {
   "cell_type": "code",
   "execution_count": 15,
   "metadata": {
    "ExecuteTime": {
     "end_time": "2022-05-14T21:15:53.404228Z",
     "start_time": "2022-05-14T21:15:53.401101Z"
    }
   },
   "outputs": [],
   "source": [
    "import pandas as pd"
   ]
  },
  {
   "cell_type": "code",
   "execution_count": 17,
   "metadata": {
    "ExecuteTime": {
     "end_time": "2022-05-14T21:16:42.855103Z",
     "start_time": "2022-05-14T21:16:36.683003Z"
    }
   },
   "outputs": [],
   "source": [
    "new_rna_data = pd.read_csv(\"../my_rna.csv\", sep=\"\\t\", index_col=0)\n",
    "new_clinical_data = pd.read_csv(\"../my_clinical.csv\", sep=\",\").set_index(\"Patient\")"
   ]
  },
  {
   "cell_type": "markdown",
   "metadata": {},
   "source": [
    "## preprocess"
   ]
  },
  {
   "cell_type": "code",
   "execution_count": null,
   "metadata": {
    "ExecuteTime": {
     "end_time": "2022-05-14T21:17:31.878377Z",
     "start_time": "2022-05-14T21:16:44.366263Z"
    }
   },
   "outputs": [],
   "source": [
    "new_rna_data, new_clinical_data = preprocess(new_rna_data, new_clinical_data)"
   ]
  },
  {
   "cell_type": "markdown",
   "metadata": {},
   "source": [
    "## make the dataset"
   ]
  },
  {
   "cell_type": "code",
   "execution_count": 22,
   "metadata": {
    "ExecuteTime": {
     "end_time": "2022-05-14T21:21:24.771561Z",
     "start_time": "2022-05-14T21:21:17.884439Z"
    }
   },
   "outputs": [
    {
     "name": "stdout",
     "output_type": "stream",
     "text": [
      "\n",
      "We are using these pathways & genesets: \n",
      "['BIOCARTA_DEATH_PATHWAY', 'BIOCARTA_CELLCYCLE_PATHWAY', 'BIOCARTA_ERK_PATHWAY', 'BIOCARTA_NFKB_PATHWAY', 'BIOCARTA_P53_PATHWAY', 'BIOCARTA_RAS_PATHWAY', 'BORTEZOMIB_ABNORMALITY_OF_CHROMOSOME_STABILITY', 'REACTOME_ANTIGEN_PROCESSING_UBIQUITINATION_PROTEASOME_DEGRADATION', 'REACTOME_DNA_REPAIR', 'UAMS17', 'THALIDOMIDE']\n"
     ]
    }
   ],
   "source": [
    "X = make_dataset(new_rna_data, new_clinical_data)\n",
    "# scaling the data\n",
    "scaler = preprocessing.StandardScaler().fit(X[DEFAULT_FEATURES].values)\n",
    "X_scaled = scaler.transform(X[DEFAULT_FEATURES].values)"
   ]
  },
  {
   "cell_type": "markdown",
   "metadata": {},
   "source": [
    "## predict"
   ]
  },
  {
   "cell_type": "code",
   "execution_count": 24,
   "metadata": {
    "ExecuteTime": {
     "end_time": "2022-05-14T21:23:13.144062Z",
     "start_time": "2022-05-14T21:23:13.140518Z"
    }
   },
   "outputs": [],
   "source": [
    "res = clf.predict(X_scaled)"
   ]
  },
  {
   "cell_type": "markdown",
   "metadata": {
    "ExecuteTime": {
     "end_time": "2022-05-14T20:53:48.967692Z",
     "start_time": "2022-05-14T20:53:48.964803Z"
    }
   },
   "source": [
    "## saving"
   ]
  },
  {
   "cell_type": "code",
   "execution_count": 28,
   "metadata": {
    "ExecuteTime": {
     "end_time": "2022-05-14T21:24:09.501609Z",
     "start_time": "2022-05-14T21:24:09.496518Z"
    }
   },
   "outputs": [],
   "source": [
    "pd.DataFrame(data=res, columns=['pred'], index = new_clinical_data.index).to_csv(\"new_predictions.csv\")"
   ]
  },
  {
   "cell_type": "code",
   "execution_count": 29,
   "metadata": {
    "ExecuteTime": {
     "end_time": "2022-05-14T21:24:18.747253Z",
     "start_time": "2022-05-14T21:24:18.011136Z"
    }
   },
   "outputs": [
    {
     "name": "stdout",
     "output_type": "stream",
     "text": [
      "Patient,pred\r\n",
      "MMRF_1021,0\r\n",
      "MMRF_1029,0\r\n",
      "MMRF_1030,0\r\n",
      "MMRF_1031,0\r\n",
      "MMRF_1032,0\r\n",
      "MMRF_1033,0\r\n",
      "MMRF_1038,0\r\n",
      "MMRF_1048,0\r\n",
      "MMRF_1068,0\r\n",
      "MMRF_1073,0\r\n",
      "MMRF_1077,1\r\n",
      "MMRF_1078,0\r\n",
      "MMRF_1080,0\r\n",
      "MMRF_1082,1\r\n",
      "MMRF_1086,1\r\n",
      "MMRF_1089,0\r\n",
      "MMRF_1092,0\r\n",
      "MMRF_1098,0\r\n",
      "MMRF_1100,0\r\n",
      "MMRF_1107,0\r\n",
      "MMRF_1108,0\r\n",
      "MMRF_1128,0\r\n",
      "MMRF_1129,0\r\n",
      "MMRF_1148,0\r\n",
      "MMRF_1151,0\r\n",
      "MMRF_1152,0\r\n",
      "MMRF_1157,0\r\n",
      "MMRF_1164,0\r\n",
      "MMRF_1167,0\r\n",
      "MMRF_1169,0\r\n",
      "MMRF_1171,0\r\n",
      "MMRF_1178,0\r\n",
      "MMRF_1179,0\r\n",
      "MMRF_1180,0\r\n",
      "MMRF_1185,0\r\n",
      "MMRF_1188,1\r\n",
      "MMRF_1189,0\r\n",
      "MMRF_1195,0\r\n",
      "MMRF_1201,0\r\n",
      "MMRF_1202,0\r\n",
      "MMRF_1210,0\r\n",
      "MMRF_1216,1\r\n",
      "MMRF_1231,0\r\n",
      "MMRF_1235,0\r\n",
      "MMRF_1250,1\r\n",
      "MMRF_1251,0\r\n",
      "MMRF_1252,0\r\n",
      "MMRF_1257,0\r\n",
      "MMRF_1260,0\r\n",
      "MMRF_1261,0\r\n",
      "MMRF_1266,0\r\n",
      "MMRF_1267,1\r\n",
      "MMRF_1269,0\r\n",
      "MMRF_1270,0\r\n",
      "MMRF_1274,0\r\n",
      "MMRF_1277,0\r\n",
      "MMRF_1281,0\r\n",
      "MMRF_1284,0\r\n",
      "MMRF_1286,0\r\n",
      "MMRF_1290,0\r\n",
      "MMRF_1293,0\r\n",
      "MMRF_1295,0\r\n",
      "MMRF_1304,1\r\n",
      "MMRF_1307,0\r\n",
      "MMRF_1308,0\r\n",
      "MMRF_1309,0\r\n",
      "MMRF_1310,0\r\n",
      "MMRF_1311,1\r\n",
      "MMRF_1312,0\r\n",
      "MMRF_1318,0\r\n",
      "MMRF_1320,0\r\n",
      "MMRF_1323,0\r\n",
      "MMRF_1324,0\r\n",
      "MMRF_1325,0\r\n",
      "MMRF_1328,0\r\n",
      "MMRF_1331,0\r\n",
      "MMRF_1338,0\r\n",
      "MMRF_1342,0\r\n",
      "MMRF_1344,0\r\n",
      "MMRF_1349,1\r\n",
      "MMRF_1352,0\r\n",
      "MMRF_1354,0\r\n",
      "MMRF_1355,0\r\n",
      "MMRF_1356,0\r\n",
      "MMRF_1358,0\r\n",
      "MMRF_1359,0\r\n",
      "MMRF_1360,0\r\n",
      "MMRF_1361,1\r\n",
      "MMRF_1371,0\r\n",
      "MMRF_1377,1\r\n",
      "MMRF_1380,1\r\n",
      "MMRF_1383,0\r\n",
      "MMRF_1388,0\r\n",
      "MMRF_1389,0\r\n",
      "MMRF_1391,0\r\n",
      "MMRF_1392,0\r\n",
      "MMRF_1393,0\r\n",
      "MMRF_1395,0\r\n",
      "MMRF_1401,0\r\n",
      "MMRF_1403,0\r\n",
      "MMRF_1408,0\r\n",
      "MMRF_1413,0\r\n",
      "MMRF_1423,0\r\n",
      "MMRF_1424,0\r\n",
      "MMRF_1425,0\r\n",
      "MMRF_1426,0\r\n",
      "MMRF_1432,0\r\n",
      "MMRF_1433,0\r\n",
      "MMRF_1434,0\r\n",
      "MMRF_1436,0\r\n",
      "MMRF_1446,0\r\n",
      "MMRF_1447,0\r\n",
      "MMRF_1450,1\r\n",
      "MMRF_1451,0\r\n",
      "MMRF_1453,0\r\n",
      "MMRF_1454,1\r\n",
      "MMRF_1461,0\r\n",
      "MMRF_1462,0\r\n",
      "MMRF_1466,0\r\n",
      "MMRF_1474,0\r\n",
      "MMRF_1478,0\r\n",
      "MMRF_1484,0\r\n",
      "MMRF_1485,1\r\n",
      "MMRF_1489,0\r\n",
      "MMRF_1491,1\r\n",
      "MMRF_1497,0\r\n",
      "MMRF_1499,1\r\n",
      "MMRF_1501,1\r\n",
      "MMRF_1502,0\r\n",
      "MMRF_1506,0\r\n",
      "MMRF_1510,0\r\n",
      "MMRF_1511,0\r\n",
      "MMRF_1512,0\r\n",
      "MMRF_1516,0\r\n",
      "MMRF_1519,0\r\n",
      "MMRF_1520,1\r\n",
      "MMRF_1522,0\r\n",
      "MMRF_1523,0\r\n",
      "MMRF_1531,0\r\n",
      "MMRF_1534,0\r\n",
      "MMRF_1537,0\r\n",
      "MMRF_1538,0\r\n",
      "MMRF_1539,0\r\n",
      "MMRF_1540,0\r\n",
      "MMRF_1541,1\r\n",
      "MMRF_1542,0\r\n",
      "MMRF_1543,0\r\n",
      "MMRF_1546,0\r\n",
      "MMRF_1550,0\r\n",
      "MMRF_1560,0\r\n",
      "MMRF_1565,0\r\n",
      "MMRF_1570,0\r\n",
      "MMRF_1572,1\r\n",
      "MMRF_1573,0\r\n",
      "MMRF_1574,0\r\n",
      "MMRF_1577,0\r\n",
      "MMRF_1579,0\r\n",
      "MMRF_1580,0\r\n",
      "MMRF_1583,0\r\n",
      "MMRF_1587,0\r\n",
      "MMRF_1588,0\r\n",
      "MMRF_1589,0\r\n",
      "MMRF_1593,0\r\n",
      "MMRF_1595,0\r\n",
      "MMRF_1596,0\r\n",
      "MMRF_1597,0\r\n",
      "MMRF_1598,0\r\n",
      "MMRF_1603,0\r\n",
      "MMRF_1605,0\r\n",
      "MMRF_1613,0\r\n",
      "MMRF_1614,0\r\n",
      "MMRF_1617,1\r\n",
      "MMRF_1618,0\r\n",
      "MMRF_1621,0\r\n",
      "MMRF_1624,0\r\n",
      "MMRF_1625,0\r\n",
      "MMRF_1627,0\r\n",
      "MMRF_1630,0\r\n",
      "MMRF_1634,0\r\n",
      "MMRF_1639,0\r\n",
      "MMRF_1640,0\r\n",
      "MMRF_1641,0\r\n",
      "MMRF_1643,0\r\n",
      "MMRF_1645,0\r\n",
      "MMRF_1651,1\r\n",
      "MMRF_1652,1\r\n",
      "MMRF_1654,0\r\n",
      "MMRF_1656,0\r\n",
      "MMRF_1659,0\r\n",
      "MMRF_1664,0\r\n",
      "MMRF_1665,0\r\n",
      "MMRF_1668,1\r\n",
      "MMRF_1670,0\r\n",
      "MMRF_1671,0\r\n",
      "MMRF_1672,0\r\n",
      "MMRF_1677,1\r\n",
      "MMRF_1682,0\r\n",
      "MMRF_1683,0\r\n",
      "MMRF_1686,0\r\n",
      "MMRF_1689,0\r\n",
      "MMRF_1690,0\r\n",
      "MMRF_1694,0\r\n",
      "MMRF_1698,0\r\n",
      "MMRF_1700,0\r\n",
      "MMRF_1705,0\r\n",
      "MMRF_1710,0\r\n",
      "MMRF_1713,1\r\n",
      "MMRF_1714,0\r\n",
      "MMRF_1716,0\r\n",
      "MMRF_1719,1\r\n",
      "MMRF_1720,0\r\n",
      "MMRF_1726,0\r\n",
      "MMRF_1727,1\r\n",
      "MMRF_1730,0\r\n",
      "MMRF_1731,0\r\n",
      "MMRF_1733,0\r\n",
      "MMRF_1735,0\r\n",
      "MMRF_1736,0\r\n",
      "MMRF_1738,0\r\n",
      "MMRF_1739,0\r\n",
      "MMRF_1750,0\r\n",
      "MMRF_1758,0\r\n",
      "MMRF_1759,0\r\n",
      "MMRF_1766,0\r\n",
      "MMRF_1771,1\r\n",
      "MMRF_1773,0\r\n",
      "MMRF_1775,0\r\n",
      "MMRF_1777,0\r\n",
      "MMRF_1780,0\r\n",
      "MMRF_1782,0\r\n",
      "MMRF_1783,0\r\n",
      "MMRF_1785,0\r\n",
      "MMRF_1786,0\r\n",
      "MMRF_1787,0\r\n",
      "MMRF_1790,0\r\n",
      "MMRF_1792,0\r\n",
      "MMRF_1793,0\r\n",
      "MMRF_1795,0\r\n",
      "MMRF_1797,0\r\n",
      "MMRF_1801,0\r\n",
      "MMRF_1802,0\r\n",
      "MMRF_1810,0\r\n",
      "MMRF_1814,1\r\n",
      "MMRF_1815,0\r\n",
      "MMRF_1817,0\r\n",
      "MMRF_1822,0\r\n",
      "MMRF_1823,0\r\n",
      "MMRF_1824,0\r\n",
      "MMRF_1825,0\r\n",
      "MMRF_1830,0\r\n",
      "MMRF_1832,0\r\n",
      "MMRF_1833,0\r\n",
      "MMRF_1835,0\r\n",
      "MMRF_1837,0\r\n",
      "MMRF_1839,1\r\n",
      "MMRF_1842,0\r\n",
      "MMRF_1845,0\r\n",
      "MMRF_1846,0\r\n",
      "MMRF_1847,0\r\n",
      "MMRF_1850,1\r\n",
      "MMRF_1854,0\r\n",
      "MMRF_1855,0\r\n",
      "MMRF_1856,0\r\n",
      "MMRF_1857,0\r\n",
      "MMRF_1859,0\r\n",
      "MMRF_1860,0\r\n",
      "MMRF_1861,0\r\n",
      "MMRF_1862,0\r\n",
      "MMRF_1865,0\r\n",
      "MMRF_1867,0\r\n",
      "MMRF_1871,1\r\n",
      "MMRF_1876,0\r\n",
      "MMRF_1879,1\r\n",
      "MMRF_1881,0\r\n",
      "MMRF_1886,1\r\n",
      "MMRF_1888,0\r\n",
      "MMRF_1889,0\r\n",
      "MMRF_1890,1\r\n",
      "MMRF_1891,0\r\n",
      "MMRF_1895,0\r\n",
      "MMRF_1900,0\r\n",
      "MMRF_1906,0\r\n",
      "MMRF_1908,0\r\n",
      "MMRF_1910,0\r\n",
      "MMRF_1911,0\r\n",
      "MMRF_1915,1\r\n",
      "MMRF_1916,0\r\n",
      "MMRF_1917,1\r\n",
      "MMRF_1918,0\r\n",
      "MMRF_1921,0\r\n",
      "MMRF_1922,0\r\n",
      "MMRF_1923,1\r\n",
      "MMRF_1928,0\r\n",
      "MMRF_1931,0\r\n",
      "MMRF_1932,0\r\n",
      "MMRF_1951,0\r\n",
      "MMRF_1952,0\r\n",
      "MMRF_1971,0\r\n",
      "MMRF_1972,0\r\n",
      "MMRF_1974,0\r\n",
      "MMRF_1977,0\r\n",
      "MMRF_1978,0\r\n",
      "MMRF_1981,0\r\n",
      "MMRF_1982,0\r\n",
      "MMRF_1985,0\r\n",
      "MMRF_1991,1\r\n",
      "MMRF_1997,0\r\n",
      "MMRF_1998,0\r\n",
      "MMRF_2000,0\r\n",
      "MMRF_2005,1\r\n",
      "MMRF_2006,0\r\n",
      "MMRF_2015,0\r\n",
      "MMRF_2016,0\r\n",
      "MMRF_2017,0\r\n",
      "MMRF_2018,0\r\n",
      "MMRF_2019,0\r\n",
      "MMRF_2026,0\r\n",
      "MMRF_2038,0\r\n",
      "MMRF_2039,0\r\n",
      "MMRF_2041,0\r\n",
      "MMRF_2047,0\r\n",
      "MMRF_2054,0\r\n",
      "MMRF_2055,0\r\n",
      "MMRF_2056,0\r\n",
      "MMRF_2059,0\r\n",
      "MMRF_2061,0\r\n",
      "MMRF_2068,1\r\n",
      "MMRF_2072,0\r\n",
      "MMRF_2074,0\r\n",
      "MMRF_2076,0\r\n",
      "MMRF_2081,0\r\n",
      "MMRF_2082,0\r\n",
      "MMRF_2087,0\r\n",
      "MMRF_2091,1\r\n",
      "MMRF_2093,0\r\n",
      "MMRF_2097,0\r\n",
      "MMRF_2098,0\r\n",
      "MMRF_2106,0\r\n",
      "MMRF_2107,0\r\n",
      "MMRF_2115,0\r\n",
      "MMRF_2116,1\r\n",
      "MMRF_2119,1\r\n",
      "MMRF_2122,0\r\n",
      "MMRF_2126,0\r\n",
      "MMRF_2149,0\r\n",
      "MMRF_2151,0\r\n",
      "MMRF_2172,0\r\n",
      "MMRF_2194,0\r\n",
      "MMRF_2199,0\r\n",
      "MMRF_2200,1\r\n",
      "MMRF_2201,0\r\n",
      "MMRF_2216,0\r\n",
      "MMRF_2240,0\r\n",
      "MMRF_2251,1\r\n",
      "MMRF_2258,0\r\n",
      "MMRF_2266,1\r\n",
      "MMRF_2272,0\r\n",
      "MMRF_2290,0\r\n",
      "MMRF_2300,0\r\n",
      "MMRF_2306,0\r\n",
      "MMRF_2314,0\r\n",
      "MMRF_2335,1\r\n",
      "MMRF_2364,0\r\n",
      "MMRF_2373,0\r\n",
      "MMRF_2379,0\r\n",
      "MMRF_2404,0\r\n",
      "MMRF_2412,0\r\n",
      "MMRF_2444,0\r\n",
      "MMRF_2455,0\r\n",
      "MMRF_2457,0\r\n",
      "MMRF_2473,0\r\n",
      "MMRF_2490,0\r\n",
      "MMRF_2535,0\r\n",
      "MMRF_2554,0\r\n",
      "MMRF_2557,0\r\n",
      "MMRF_2562,0\r\n",
      "MMRF_2596,0\r\n"
     ]
    }
   ],
   "source": [
    "cat new_predictions.csv"
   ]
  }
 ],
 "metadata": {
  "kernelspec": {
   "display_name": "gae",
   "language": "python",
   "name": "gae"
  },
  "language_info": {
   "codemirror_mode": {
    "name": "ipython",
    "version": 3
   },
   "file_extension": ".py",
   "mimetype": "text/x-python",
   "name": "python",
   "nbconvert_exporter": "python",
   "pygments_lexer": "ipython3",
   "version": "3.8.12"
  },
  "latex_envs": {
   "LaTeX_envs_menu_present": true,
   "autoclose": false,
   "autocomplete": true,
   "bibliofile": "biblio.bib",
   "cite_by": "apalike",
   "current_citInitial": 1,
   "eqLabelWithNumbers": true,
   "eqNumInitial": 1,
   "hotkeys": {
    "equation": "Ctrl-E",
    "itemize": "Ctrl-I"
   },
   "labels_anchors": false,
   "latex_user_defs": false,
   "report_style_numbering": false,
   "user_envs_cfg": false
  },
  "toc": {
   "base_numbering": 1,
   "nav_menu": {},
   "number_sections": true,
   "sideBar": true,
   "skip_h1_title": false,
   "title_cell": "Table of Contents",
   "title_sidebar": "Contents",
   "toc_cell": false,
   "toc_position": {},
   "toc_section_display": true,
   "toc_window_display": false
  },
  "varInspector": {
   "cols": {
    "lenName": 16,
    "lenType": 16,
    "lenVar": 40
   },
   "kernels_config": {
    "python": {
     "delete_cmd_postfix": "",
     "delete_cmd_prefix": "del ",
     "library": "var_list.py",
     "varRefreshCmd": "print(var_dic_list())"
    },
    "r": {
     "delete_cmd_postfix": ") ",
     "delete_cmd_prefix": "rm(",
     "library": "var_list.r",
     "varRefreshCmd": "cat(var_dic_list()) "
    }
   },
   "types_to_exclude": [
    "module",
    "function",
    "builtin_function_or_method",
    "instance",
    "_Feature"
   ],
   "window_display": false
  }
 },
 "nbformat": 4,
 "nbformat_minor": 2
}
